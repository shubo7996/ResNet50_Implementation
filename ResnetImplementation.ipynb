{
 "cells": [
  {
   "cell_type": "code",
   "execution_count": 1,
   "metadata": {},
   "outputs": [],
   "source": [
    "import _pickle as cPickle"
   ]
  },
  {
   "cell_type": "code",
   "execution_count": 2,
   "metadata": {},
   "outputs": [],
   "source": [
    "def unpickle(file):\n",
    "    with open(file,'rb') as file_reader:\n",
    "        _dict=cPickle.load(file_reader,encoding='bytes')\n",
    "    return _dict\n"
   ]
  },
  {
   "cell_type": "code",
   "execution_count": 3,
   "metadata": {},
   "outputs": [],
   "source": [
    "filepath='cifar-100-python'\n",
    "train= unpickle(os.path.join(filepath, \"train\"))\n",
    "test= unpickle(os.path.join(filepath, \"train\"))\n",
    "meta= unpickle(os.path.join(filepath, \"meta\"))\n"
   ]
  },
  {
   "cell_type": "code",
   "execution_count": 7,
   "metadata": {},
   "outputs": [
    {
     "output_type": "execute_result",
     "data": {
      "text/plain": "(50000, 3072)"
     },
     "metadata": {},
     "execution_count": 7
    }
   ],
   "source": [
    "train[b'data'].shape"
   ]
  },
  {
   "cell_type": "code",
   "execution_count": 14,
   "metadata": {},
   "outputs": [
    {
     "output_type": "execute_result",
     "data": {
      "text/plain": "dict_keys([b'fine_label_names', b'coarse_label_names'])"
     },
     "metadata": {},
     "execution_count": 14
    }
   ],
   "source": [
    "meta.keys()"
   ]
  },
  {
   "cell_type": "code",
   "execution_count": 15,
   "metadata": {},
   "outputs": [],
   "source": [
    "import numpy as np\n",
    "import pandas as pd\n",
    "\n",
    "\n"
   ]
  },
  {
   "cell_type": "code",
   "execution_count": 56,
   "metadata": {},
   "outputs": [
    {
     "output_type": "execute_result",
     "data": {
      "text/plain": "(50000, 32, 32, 3)"
     },
     "metadata": {},
     "execution_count": 56
    }
   ],
   "source": [
    "X_train=np.asarray(train[b'data'])\n",
    "X_train_orig=X_train.reshape(50000,3,32,32).transpose(0,2,3,1).astype(\"uint8\")\n",
    "#X_train_orig=X_train.reshape(X_train.shape[0], -1).T/255\n",
    "X_train_orig.shape\n"
   ]
  },
  {
   "cell_type": "code",
   "execution_count": 58,
   "metadata": {},
   "outputs": [],
   "source": [
    "from imgaug import augmenters as aug\n",
    "\n",
    "_seq=aug.Sequential([\n",
    "    aug.Fliplr(0.5),\n",
    "    aug.CropAndPad(px=(-2, 2),sample_independently=True,pad_mode=[\"constant\", \"edge\"]),\n",
    "    aug.Affine(shear=(-10, 10),mode = ['symmetric','wrap']),#48\n",
    "    aug.Add((-5, 5)),\n",
    "    aug.Multiply((0.8, 1.2)),\n",
    "],random_order=True)\n"
   ]
  },
  {
   "cell_type": "code",
   "execution_count": 59,
   "metadata": {},
   "outputs": [],
   "source": [
    "augmented_X1= _seq.augment_images(X_train_orig)"
   ]
  },
  {
   "cell_type": "code",
   "execution_count": 60,
   "metadata": {},
   "outputs": [
    {
     "output_type": "execute_result",
     "data": {
      "text/plain": "(50000, 32, 32, 3)"
     },
     "metadata": {},
     "execution_count": 60
    }
   ],
   "source": [
    "augmented_X1.shape"
   ]
  },
  {
   "cell_type": "code",
   "execution_count": 61,
   "metadata": {},
   "outputs": [],
   "source": [
    "all_train=[]\n",
    "all_train.extend(X_train_orig)\n",
    "all_train.extend(augmented_X1/255)"
   ]
  },
  {
   "cell_type": "code",
   "execution_count": 62,
   "metadata": {},
   "outputs": [],
   "source": [
    "all_train_labels=[]\n",
    "all_train_labels.extend(train[b'fine_labels'])\n",
    "all_train_labels.extend(train[b'fine_labels'])"
   ]
  },
  {
   "cell_type": "code",
   "execution_count": 63,
   "metadata": {},
   "outputs": [],
   "source": [
    "import random\n",
    "\n",
    "all_train_shuffled,all_train_labels_shuffled=[],[]\n",
    "combined=list(zip(all_train, all_train_labels))\n",
    "random.shuffle(combined)"
   ]
  },
  {
   "cell_type": "code",
   "execution_count": 64,
   "metadata": {},
   "outputs": [],
   "source": [
    "all_train_shuffled[:],all_train_labels_shuffled[:]=zip(*combined)"
   ]
  },
  {
   "cell_type": "code",
   "execution_count": 65,
   "metadata": {},
   "outputs": [
    {
     "output_type": "execute_result",
     "data": {
      "text/plain": "(100000, 32, 32, 3)"
     },
     "metadata": {},
     "execution_count": 65
    }
   ],
   "source": [
    "num_classes=100\n",
    "all_train_shuffled=np.asarray(all_train_shuffled)\n",
    "all_train_shuffled.shape"
   ]
  },
  {
   "cell_type": "code",
   "execution_count": 66,
   "metadata": {},
   "outputs": [],
   "source": [
    "def one_hot_encode(vec,vals=num_classes):\n",
    "    n = len(vec)\n",
    "    Y = np.zeros((n, vals))\n",
    "    Y[range(n), vec] = 1\n",
    "    return Y\n",
    "\n",
    "all_train_labels_shuffled=one_hot_encode(all_train_labels_shuffled,num_classes)\n"
   ]
  },
  {
   "cell_type": "code",
   "execution_count": 67,
   "metadata": {},
   "outputs": [
    {
     "output_type": "execute_result",
     "data": {
      "text/plain": "(100000, 100)"
     },
     "metadata": {},
     "execution_count": 67
    }
   ],
   "source": [
    "all_train_labels_shuffled.shape"
   ]
  },
  {
   "cell_type": "code",
   "execution_count": 68,
   "metadata": {},
   "outputs": [],
   "source": [
    "X_train_shuffled=all_train_shuffled\n",
    "Y_train_shuffled=all_train_labels_shuffled"
   ]
  },
  {
   "cell_type": "code",
   "execution_count": 69,
   "metadata": {},
   "outputs": [],
   "source": [
    "X_test=np.asarray(test[b'data'])\n",
    "X_test_shuffled=X_test.reshape(len(X_test),3,32,32).transpose(0,2,3,1)/255\n",
    "Y_test_shuffled=one_hot_encode(test[b'fine_labels'],num_classes)"
   ]
  },
  {
   "cell_type": "code",
   "execution_count": 70,
   "metadata": {},
   "outputs": [
    {
     "output_type": "execute_result",
     "data": {
      "text/plain": "(50000, 32, 32, 3)"
     },
     "metadata": {},
     "execution_count": 70
    }
   ],
   "source": [
    "X_test_shuffled.shape"
   ]
  },
  {
   "cell_type": "code",
   "execution_count": 71,
   "metadata": {},
   "outputs": [
    {
     "output_type": "execute_result",
     "data": {
      "text/plain": "(50000, 100)"
     },
     "metadata": {},
     "execution_count": 71
    }
   ],
   "source": [
    "Y_test_shuffled.shape"
   ]
  },
  {
   "cell_type": "code",
   "execution_count": 72,
   "metadata": {},
   "outputs": [
    {
     "output_type": "execute_result",
     "data": {
      "text/plain": "(100000, 32, 32, 3)"
     },
     "metadata": {},
     "execution_count": 72
    }
   ],
   "source": [
    "X_train_shuffled.shape"
   ]
  },
  {
   "cell_type": "code",
   "execution_count": 73,
   "metadata": {},
   "outputs": [
    {
     "output_type": "execute_result",
     "data": {
      "text/plain": "(100000, 100)"
     },
     "metadata": {},
     "execution_count": 73
    }
   ],
   "source": [
    "Y_train_shuffled.shape"
   ]
  },
  {
   "cell_type": "code",
   "execution_count": 74,
   "metadata": {},
   "outputs": [],
   "source": [
    "from keras import layers\n",
    "from keras.layers import Input,Add,Dense,Activation,ZeroPadding2D,BatchNormalization,Flatten,Conv2D,AveragePooling2D,MaxPooling2D,GlobalMaxPooling2D\n",
    "from keras.models import Model,load_model"
   ]
  },
  {
   "cell_type": "code",
   "execution_count": 75,
   "metadata": {},
   "outputs": [
    {
     "output_type": "execute_result",
     "data": {
      "text/plain": "'2.3.0'"
     },
     "metadata": {},
     "execution_count": 75
    }
   ],
   "source": [
    "import tensorflow as tf\n",
    "tf.__version__"
   ]
  },
  {
   "cell_type": "code",
   "execution_count": 76,
   "metadata": {},
   "outputs": [],
   "source": [
    "def ResNet_IdentityBlock(Input_X, f, filters, stage, block):\n",
    "    \n",
    "    conv_name_base= 'RES' + str(stage) + block + '_branch'\n",
    "    bn_name_base= 'BN' + str(stage) + block + '_branch'\n",
    "\n",
    "    F1,F2,F3=filters\n",
    "\n",
    "    Shortcut_X=Input_X\n",
    "\n",
    "    Input_X=Conv2D(\n",
    "        filters=F1,\n",
    "        kernel_size=(1,1),\n",
    "        strides=(1,1),\n",
    "        padding=\"valid\",\n",
    "        name=conv_name_base+'2a',\n",
    "        kernel_initializer=\"glorot_uniform\"\n",
    "    )(Input_X)\n",
    "    Input_X=BatchNormalization(\n",
    "        axis=3,\n",
    "        name=bn_name_base+'2a'\n",
    "    )(Input_X)\n",
    "    Input_X=Activation('relu')(Input_X)\n",
    "\n",
    "    Input_X=Conv2D(\n",
    "        filters=F2,\n",
    "        kernel_size=(f,f),\n",
    "        strides=(1,1),\n",
    "        padding=\"same\",\n",
    "        name=conv_name_base+'2b',\n",
    "        kernel_initializer=\"glorot_uniform\"\n",
    "    )(Input_X)\n",
    "    Input_X=BatchNormalization(\n",
    "        axis=3,\n",
    "        name=bn_name_base+'2b'\n",
    "    )(Input_X)\n",
    "    Input_X=Activation('relu')(Input_X)\n",
    "\n",
    "    Input_X=Conv2D(\n",
    "        filters=F3,\n",
    "        kernel_size=(1,1),\n",
    "        strides=(1,1),\n",
    "        padding=\"valid\",\n",
    "        name=conv_name_base+'2c',\n",
    "        kernel_initializer=\"glorot_uniform\"\n",
    "    )(Input_X)\n",
    "    Input_X=BatchNormalization(\n",
    "        axis=3,\n",
    "        name=bn_name_base+'2c'\n",
    "    )(Input_X)\n",
    "\n",
    "    Input_X=Add()([Shortcut_X,Input_X])\n",
    "    Input_X=Activation('relu')(Input_X)\n",
    "\n",
    "    return Input_X\n",
    "    \n",
    "\n",
    "\n"
   ]
  },
  {
   "cell_type": "code",
   "execution_count": 77,
   "metadata": {},
   "outputs": [],
   "source": [
    "def ResNet_ConvolutionBlock(Input_X,f,filters,stage,block,s=2):\n",
    "    \n",
    "    conv_name_base= 'RES' + str(stage) + block + '_branch'\n",
    "    bn_name_base= 'BN' + str(stage) + block + '_branch'\n",
    "\n",
    "    F1,F2,F3=filters\n",
    "\n",
    "    Shortcut_X=Input_X\n",
    "\n",
    "    Input_X=Conv2D(\n",
    "        filters=F1,\n",
    "        kernel_size=(1,1),\n",
    "        strides=(s,s),\n",
    "        name=conv_name_base+'2a',\n",
    "        kernel_initializer=\"glorot_uniform\"\n",
    "    )(Input_X)\n",
    "    Input_X=BatchNormalization(\n",
    "        axis=3,\n",
    "        name=bn_name_base+'2a'\n",
    "    )(Input_X)\n",
    "    Input_X=Activation('relu')(Input_X)\n",
    "\n",
    "    Input_X=Conv2D(\n",
    "        filters=F2,\n",
    "        kernel_size=(f,f),\n",
    "        strides=(1,1),\n",
    "        padding=\"same\",\n",
    "        name=conv_name_base+'2b',\n",
    "        kernel_initializer=\"glorot_uniform\"\n",
    "    )(Input_X)\n",
    "    Input_X=BatchNormalization(\n",
    "        axis=3,\n",
    "        name=bn_name_base+'2b'\n",
    "    )(Input_X)\n",
    "    Input_X=Activation('relu')(Input_X)\n",
    "\n",
    "    Input_X=Conv2D(\n",
    "        filters=F3,\n",
    "        kernel_size=(1,1),\n",
    "        strides=(1,1),\n",
    "        padding=\"valid\",\n",
    "        name=conv_name_base+'2c',\n",
    "        kernel_initializer=\"glorot_uniform\"\n",
    "    )(Input_X)\n",
    "    Input_X=BatchNormalization(\n",
    "        axis=3,\n",
    "        name=bn_name_base+'2c'\n",
    "    )(Input_X)\n",
    "\n",
    "    Shortcut_X=Conv2D(\n",
    "        filters=F3,\n",
    "        kernel_size=(1,1),\n",
    "        strides=(s,s),\n",
    "        padding=\"valid\",\n",
    "        name=conv_name_base+'1',\n",
    "        kernel_initializer=\"glorot_uniform\"\n",
    "    )(Shortcut_X)\n",
    "    Shortcut_X=BatchNormalization(\n",
    "        axis=3,\n",
    "        name=bn_name_base+'1'\n",
    "    )(Shortcut_X)\n",
    "\n",
    "\n",
    "    Input_X=Add()([Input_X,Shortcut_X])\n",
    "    Input_X=Activation('relu')(Input_X)\n",
    "\n",
    "    return Input_X\n"
   ]
  },
  {
   "cell_type": "code",
   "execution_count": 78,
   "metadata": {},
   "outputs": [],
   "source": [
    "def ResNet50(input_shape=(32,32,3),classes=100):\n",
    "    \"\"\"\n",
    "    Implementation of the popular ResNet50 the following architecture:\n",
    "\n",
    "    CONV2D -> BATCHNORM -> RELU -> MAXPOOL -> CONVBLOCK -> IDBLOCK*2 -> CONVBLOCK -> IDBLOCK*3\n",
    "    -> CONVBLOCK -> IDBLOCK*5 -> CONVBLOCK -> IDBLOCK*2 -> AVGPOOL -> TOPLAYER\n",
    "\n",
    "    \"\"\"\n",
    "\n",
    "    X_Input=Input(shape=input_shape)\n",
    "\n",
    "    Input_X=ZeroPadding2D((3,3))(X_Input)\n",
    "\n",
    "    #Stage-1\n",
    "    #7*7*64\n",
    "    Input_X=Conv2D(\n",
    "        filters=64,\n",
    "        kernel_size=(7,7),\n",
    "        strides=(2,2),\n",
    "        name='conv1',\n",
    "        kernel_initializer=\"glorot_uniform\"\n",
    "    )(Input_X)\n",
    "    Input_X=BatchNormalization(\n",
    "        axis=3,\n",
    "        name='bn_conv1'\n",
    "    )(Input_X)\n",
    "    Input_X=Activation('relu')(Input_X)\n",
    "    Input_X=MaxPooling2D(\n",
    "        pool_size=(3,3),\n",
    "        strides=(2,2)\n",
    "    )(Input_X)\n",
    "\n",
    "    #Stage-2\n",
    "    Input_X=ResNet_ConvolutionBlock(\n",
    "        Input_X=Input_X,\n",
    "        f=3,\n",
    "        filters=[64,64,256],\n",
    "        stage=2,\n",
    "        block='a',\n",
    "        s=1\n",
    "    )\n",
    "    Input_X=ResNet_IdentityBlock(\n",
    "        Input_X=Input_X,\n",
    "        f=3,\n",
    "        filters=[64,64,256],\n",
    "        stage=2,\n",
    "        block='b',\n",
    "    )\n",
    "    Input_X=ResNet_IdentityBlock(\n",
    "        Input_X=Input_X,\n",
    "        f=3,\n",
    "        filters=[64,64,256],\n",
    "        stage=2,\n",
    "        block='c',\n",
    "    )\n",
    "\n",
    "    #stage-3\n",
    "    Input_X=ResNet_ConvolutionBlock(\n",
    "        Input_X=Input_X,\n",
    "        f=3,\n",
    "        filters=[128,128,512],\n",
    "        stage=3,\n",
    "        block='a',\n",
    "        s=2\n",
    "    )\n",
    "    Input_X=ResNet_IdentityBlock(\n",
    "        Input_X=Input_X,\n",
    "        f=3,\n",
    "        filters=[128,128,512],\n",
    "        stage=3,\n",
    "        block='b',\n",
    "    )\n",
    "    Input_X=ResNet_IdentityBlock(\n",
    "        Input_X=Input_X,\n",
    "        f=3,\n",
    "        filters=[128,128,512],\n",
    "        stage=3,\n",
    "        block='c',\n",
    "    )\n",
    "    Input_X=ResNet_IdentityBlock(\n",
    "        Input_X=Input_X,\n",
    "        f=3,\n",
    "        filters=[128,128,512],\n",
    "        stage=3,\n",
    "        block='d',\n",
    "    )\n",
    "\n",
    "    #stage-4\n",
    "    Input_X=ResNet_ConvolutionBlock(\n",
    "        Input_X=Input_X,\n",
    "        f=3,\n",
    "        filters=[256,256,1024],\n",
    "        stage=4,\n",
    "        block='a',\n",
    "        s=2\n",
    "    )\n",
    "    Input_X=ResNet_IdentityBlock(\n",
    "        Input_X=Input_X,\n",
    "        f=3,\n",
    "        filters=[256,256,1024],\n",
    "        stage=4,\n",
    "        block='b',\n",
    "    )\n",
    "    Input_X=ResNet_IdentityBlock(\n",
    "        Input_X=Input_X,\n",
    "        f=3,\n",
    "        filters=[256,256,1024],\n",
    "        stage=4,\n",
    "        block='c',\n",
    "    )\n",
    "    Input_X=ResNet_IdentityBlock(\n",
    "        Input_X=Input_X,\n",
    "        f=3,\n",
    "        filters=[256,256,1024],\n",
    "        stage=4,\n",
    "        block='d',\n",
    "    )\n",
    "    Input_X=ResNet_IdentityBlock(\n",
    "        Input_X=Input_X,\n",
    "        f=3,\n",
    "        filters=[256,256,1024],\n",
    "        stage=4,\n",
    "        block='e',\n",
    "    )\n",
    "    Input_X=ResNet_IdentityBlock(\n",
    "        Input_X=Input_X,\n",
    "        f=3,\n",
    "        filters=[256,256,1024],\n",
    "        stage=4,\n",
    "        block='f',\n",
    "    )\n",
    "\n",
    "    #stage-5\n",
    "    Input_X=ResNet_ConvolutionBlock(\n",
    "        Input_X=Input_X,\n",
    "        f=3,\n",
    "        filters=[512,512,2048],\n",
    "        stage=5,\n",
    "        block='a',\n",
    "        s=2\n",
    "    )\n",
    "    Input_X=ResNet_IdentityBlock(\n",
    "        Input_X=Input_X,\n",
    "        f=3,\n",
    "        filters=[512,512,2048],\n",
    "        stage=5,\n",
    "        block='b',\n",
    "    )\n",
    "    Input_X=ResNet_IdentityBlock(\n",
    "        Input_X=Input_X,\n",
    "        f=3,\n",
    "        filters=[512,512,2048],\n",
    "        stage=5,\n",
    "        block='c',\n",
    "    )\n",
    "\n",
    "    Input_X=AveragePooling2D(\n",
    "        pool_size=(2,2),\n",
    "        padding='same'\n",
    "    )(Input_X)\n",
    "\n",
    "    Input_X=Flatten()(Input_X)\n",
    "    Input_X=Dense(\n",
    "        classes,\n",
    "        activation='softmax',\n",
    "        name='fc'+str(classes),\n",
    "        kernel_initializer=\"glorot_uniform\"\n",
    "    )(Input_X)\n",
    "\n",
    "    model=Model(inputs=X_Input,outputs=Input_X,name='ResNet50')\n",
    "\n",
    "    return model"
   ]
  },
  {
   "cell_type": "code",
   "execution_count": 79,
   "metadata": {},
   "outputs": [],
   "source": [
    "model=ResNet50(input_shape=(32, 32, 3), classes = 100)\n",
    "model.compile(optimizer='adam', loss='categorical_crossentropy', metrics=['accuracy'])"
   ]
  },
  {
   "cell_type": "code",
   "execution_count": 95,
   "metadata": {},
   "outputs": [],
   "source": [
    "model.save('myResNet50.h5')"
   ]
  },
  {
   "cell_type": "code",
   "execution_count": 85,
   "metadata": {},
   "outputs": [],
   "source": [
    "from keras.callbacks import CSVLogger\n",
    "csv_logger=CSVLogger(\n",
    "    'log.csv',\n",
    "    append=True,\n",
    "    separator=';'\n",
    ")"
   ]
  },
  {
   "cell_type": "code",
   "execution_count": 86,
   "metadata": {
    "tags": []
   },
   "outputs": [
    {
     "output_type": "stream",
     "name": "stdout",
     "text": "Epoch 1/20\n1563/1563 [==============================] - 7521s 5s/step - loss: 2.9504 - accuracy: 0.2796\nEpoch 2/20\n1563/1563 [==============================] - 7541s 5s/step - loss: 2.8202 - accuracy: 0.3044\nEpoch 3/20\n1563/1563 [==============================] - 34540s 22s/step - loss: 2.4941 - accuracy: 0.3611\nEpoch 4/20\n1563/1563 [==============================] - 7845s 5s/step - loss: 2.3381 - accuracy: 0.3906\nEpoch 5/20\n1563/1563 [==============================] - 7995s 5s/step - loss: 2.1628 - accuracy: 0.4282\nEpoch 6/20\n1563/1563 [==============================] - 8172s 5s/step - loss: 1.8987 - accuracy: 0.4869\nEpoch 7/20\n1563/1563 [==============================] - 7989s 5s/step - loss: 1.6172 - accuracy: 0.5490\nEpoch 8/20\n1563/1563 [==============================] - 7838s 5s/step - loss: 1.3105 - accuracy: 0.6249\nEpoch 9/20\n1563/1563 [==============================] - 11535s 7s/step - loss: 1.0776 - accuracy: 0.6860\nEpoch 10/20\n1563/1563 [==============================] - 34808s 22s/step - loss: 0.8554 - accuracy: 0.7447\nEpoch 11/20\n1563/1563 [==============================] - 8032s 5s/step - loss: 0.8561 - accuracy: 0.7450\nEpoch 12/20\n1563/1563 [==============================] - 8226s 5s/step - loss: 0.7501 - accuracy: 0.7742\nEpoch 13/20\n1563/1563 [==============================] - 8333s 5s/step - loss: 0.6723 - accuracy: 0.7965\nEpoch 14/20\n1563/1563 [==============================] - 7731s 5s/step - loss: 0.4050 - accuracy: 0.8755\nEpoch 15/20\n1563/1563 [==============================] - 7628s 5s/step - loss: 0.5107 - accuracy: 0.8415\nEpoch 16/20\n1563/1563 [==============================] - 8259s 5s/step - loss: 0.4393 - accuracy: 0.8638\nEpoch 17/20\n1563/1563 [==============================] - 7608s 5s/step - loss: 0.4909 - accuracy: 0.8481\nEpoch 18/20\n1563/1563 [==============================] - 7679s 5s/step - loss: 0.4131 - accuracy: 0.8721\nEpoch 19/20\n1563/1563 [==============================] - 7679s 5s/step - loss: 0.3706 - accuracy: 0.8849\nEpoch 20/20\n1563/1563 [==============================] - 7678s 5s/step - loss: 0.2794 - accuracy: 0.9129\n"
    },
    {
     "output_type": "execute_result",
     "data": {
      "text/plain": "<tensorflow.python.keras.callbacks.History at 0x24fca33e388>"
     },
     "metadata": {},
     "execution_count": 86
    }
   ],
   "source": [
    "model.fit(X_train_shuffled, Y_train_shuffled, epochs = 20, batch_size = 64,callbacks=[csv_logger])"
   ]
  },
  {
   "cell_type": "code",
   "execution_count": 87,
   "metadata": {
    "tags": []
   },
   "outputs": [
    {
     "output_type": "stream",
     "name": "stdout",
     "text": "1563/1563 [==============================] - 211s 135ms/step - loss: 1.0487 - accuracy: 0.9671\nLoss = 1.0487356185913086\nTest Accuracy = 0.9670799970626831\n"
    }
   ],
   "source": [
    "preds = model.evaluate(X_test_shuffled, Y_test_shuffled)\n",
    "print (\"Loss = \" + str(preds[0]))\n",
    "print (\"Test Accuracy = \" + str(preds[1]))"
   ]
  },
  {
   "cell_type": "code",
   "execution_count": 94,
   "metadata": {},
   "outputs": [
    {
     "output_type": "display_data",
     "data": {
      "text/plain": "<Figure size 432x288 with 1 Axes>",
      "image/svg+xml": "<?xml version=\"1.0\" encoding=\"utf-8\" standalone=\"no\"?>\r\n<!DOCTYPE svg PUBLIC \"-//W3C//DTD SVG 1.1//EN\"\r\n  \"http://www.w3.org/Graphics/SVG/1.1/DTD/svg11.dtd\">\r\n<!-- Created with matplotlib (https://matplotlib.org/) -->\r\n<svg height=\"262.19625pt\" version=\"1.1\" viewBox=\"0 0 378.465625 262.19625\" width=\"378.465625pt\" xmlns=\"http://www.w3.org/2000/svg\" xmlns:xlink=\"http://www.w3.org/1999/xlink\">\r\n <defs>\r\n  <style type=\"text/css\">\r\n*{stroke-linecap:butt;stroke-linejoin:round;}\r\n  </style>\r\n </defs>\r\n <g id=\"figure_1\">\r\n  <g id=\"patch_1\">\r\n   <path d=\"M 0 262.19625 \r\nL 378.465625 262.19625 \r\nL 378.465625 0 \r\nL 0 0 \r\nz\r\n\" style=\"fill:none;\"/>\r\n  </g>\r\n  <g id=\"axes_1\">\r\n   <g id=\"patch_2\">\r\n    <path d=\"M 36.465625 224.64 \r\nL 371.265625 224.64 \r\nL 371.265625 7.2 \r\nL 36.465625 7.2 \r\nz\r\n\" style=\"fill:#ffffff;\"/>\r\n   </g>\r\n   <g id=\"matplotlib.axis_1\">\r\n    <g id=\"xtick_1\">\r\n     <g id=\"line2d_1\">\r\n      <defs>\r\n       <path d=\"M 0 0 \r\nL 0 3.5 \r\n\" id=\"m1b54efda70\" style=\"stroke:#000000;stroke-width:0.8;\"/>\r\n      </defs>\r\n      <g>\r\n       <use style=\"stroke:#000000;stroke-width:0.8;\" x=\"61.501517\" xlink:href=\"#m1b54efda70\" y=\"224.64\"/>\r\n      </g>\r\n     </g>\r\n     <g id=\"text_1\">\r\n      <!-- 0.3 -->\r\n      <defs>\r\n       <path d=\"M 31.78125 66.40625 \r\nQ 24.171875 66.40625 20.328125 58.90625 \r\nQ 16.5 51.421875 16.5 36.375 \r\nQ 16.5 21.390625 20.328125 13.890625 \r\nQ 24.171875 6.390625 31.78125 6.390625 \r\nQ 39.453125 6.390625 43.28125 13.890625 \r\nQ 47.125 21.390625 47.125 36.375 \r\nQ 47.125 51.421875 43.28125 58.90625 \r\nQ 39.453125 66.40625 31.78125 66.40625 \r\nz\r\nM 31.78125 74.21875 \r\nQ 44.046875 74.21875 50.515625 64.515625 \r\nQ 56.984375 54.828125 56.984375 36.375 \r\nQ 56.984375 17.96875 50.515625 8.265625 \r\nQ 44.046875 -1.421875 31.78125 -1.421875 \r\nQ 19.53125 -1.421875 13.0625 8.265625 \r\nQ 6.59375 17.96875 6.59375 36.375 \r\nQ 6.59375 54.828125 13.0625 64.515625 \r\nQ 19.53125 74.21875 31.78125 74.21875 \r\nz\r\n\" id=\"DejaVuSans-48\"/>\r\n       <path d=\"M 10.6875 12.40625 \r\nL 21 12.40625 \r\nL 21 0 \r\nL 10.6875 0 \r\nz\r\n\" id=\"DejaVuSans-46\"/>\r\n       <path d=\"M 40.578125 39.3125 \r\nQ 47.65625 37.796875 51.625 33 \r\nQ 55.609375 28.21875 55.609375 21.1875 \r\nQ 55.609375 10.40625 48.1875 4.484375 \r\nQ 40.765625 -1.421875 27.09375 -1.421875 \r\nQ 22.515625 -1.421875 17.65625 -0.515625 \r\nQ 12.796875 0.390625 7.625 2.203125 \r\nL 7.625 11.71875 \r\nQ 11.71875 9.328125 16.59375 8.109375 \r\nQ 21.484375 6.890625 26.8125 6.890625 \r\nQ 36.078125 6.890625 40.9375 10.546875 \r\nQ 45.796875 14.203125 45.796875 21.1875 \r\nQ 45.796875 27.640625 41.28125 31.265625 \r\nQ 36.765625 34.90625 28.71875 34.90625 \r\nL 20.21875 34.90625 \r\nL 20.21875 43.015625 \r\nL 29.109375 43.015625 \r\nQ 36.375 43.015625 40.234375 45.921875 \r\nQ 44.09375 48.828125 44.09375 54.296875 \r\nQ 44.09375 59.90625 40.109375 62.90625 \r\nQ 36.140625 65.921875 28.71875 65.921875 \r\nQ 24.65625 65.921875 20.015625 65.03125 \r\nQ 15.375 64.15625 9.8125 62.3125 \r\nL 9.8125 71.09375 \r\nQ 15.4375 72.65625 20.34375 73.4375 \r\nQ 25.25 74.21875 29.59375 74.21875 \r\nQ 40.828125 74.21875 47.359375 69.109375 \r\nQ 53.90625 64.015625 53.90625 55.328125 \r\nQ 53.90625 49.265625 50.4375 45.09375 \r\nQ 46.96875 40.921875 40.578125 39.3125 \r\nz\r\n\" id=\"DejaVuSans-51\"/>\r\n      </defs>\r\n      <g transform=\"translate(53.549955 239.238437)scale(0.1 -0.1)\">\r\n       <use xlink:href=\"#DejaVuSans-48\"/>\r\n       <use x=\"63.623047\" xlink:href=\"#DejaVuSans-46\"/>\r\n       <use x=\"95.410156\" xlink:href=\"#DejaVuSans-51\"/>\r\n      </g>\r\n     </g>\r\n    </g>\r\n    <g id=\"xtick_2\">\r\n     <g id=\"line2d_2\">\r\n      <g>\r\n       <use style=\"stroke:#000000;stroke-width:0.8;\" x=\"109.55691\" xlink:href=\"#m1b54efda70\" y=\"224.64\"/>\r\n      </g>\r\n     </g>\r\n     <g id=\"text_2\">\r\n      <!-- 0.4 -->\r\n      <defs>\r\n       <path d=\"M 37.796875 64.3125 \r\nL 12.890625 25.390625 \r\nL 37.796875 25.390625 \r\nz\r\nM 35.203125 72.90625 \r\nL 47.609375 72.90625 \r\nL 47.609375 25.390625 \r\nL 58.015625 25.390625 \r\nL 58.015625 17.1875 \r\nL 47.609375 17.1875 \r\nL 47.609375 0 \r\nL 37.796875 0 \r\nL 37.796875 17.1875 \r\nL 4.890625 17.1875 \r\nL 4.890625 26.703125 \r\nz\r\n\" id=\"DejaVuSans-52\"/>\r\n      </defs>\r\n      <g transform=\"translate(101.605348 239.238437)scale(0.1 -0.1)\">\r\n       <use xlink:href=\"#DejaVuSans-48\"/>\r\n       <use x=\"63.623047\" xlink:href=\"#DejaVuSans-46\"/>\r\n       <use x=\"95.410156\" xlink:href=\"#DejaVuSans-52\"/>\r\n      </g>\r\n     </g>\r\n    </g>\r\n    <g id=\"xtick_3\">\r\n     <g id=\"line2d_3\">\r\n      <g>\r\n       <use style=\"stroke:#000000;stroke-width:0.8;\" x=\"157.612303\" xlink:href=\"#m1b54efda70\" y=\"224.64\"/>\r\n      </g>\r\n     </g>\r\n     <g id=\"text_3\">\r\n      <!-- 0.5 -->\r\n      <defs>\r\n       <path d=\"M 10.796875 72.90625 \r\nL 49.515625 72.90625 \r\nL 49.515625 64.59375 \r\nL 19.828125 64.59375 \r\nL 19.828125 46.734375 \r\nQ 21.96875 47.46875 24.109375 47.828125 \r\nQ 26.265625 48.1875 28.421875 48.1875 \r\nQ 40.625 48.1875 47.75 41.5 \r\nQ 54.890625 34.8125 54.890625 23.390625 \r\nQ 54.890625 11.625 47.5625 5.09375 \r\nQ 40.234375 -1.421875 26.90625 -1.421875 \r\nQ 22.3125 -1.421875 17.546875 -0.640625 \r\nQ 12.796875 0.140625 7.71875 1.703125 \r\nL 7.71875 11.625 \r\nQ 12.109375 9.234375 16.796875 8.0625 \r\nQ 21.484375 6.890625 26.703125 6.890625 \r\nQ 35.15625 6.890625 40.078125 11.328125 \r\nQ 45.015625 15.765625 45.015625 23.390625 \r\nQ 45.015625 31 40.078125 35.4375 \r\nQ 35.15625 39.890625 26.703125 39.890625 \r\nQ 22.75 39.890625 18.8125 39.015625 \r\nQ 14.890625 38.140625 10.796875 36.28125 \r\nz\r\n\" id=\"DejaVuSans-53\"/>\r\n      </defs>\r\n      <g transform=\"translate(149.660741 239.238437)scale(0.1 -0.1)\">\r\n       <use xlink:href=\"#DejaVuSans-48\"/>\r\n       <use x=\"63.623047\" xlink:href=\"#DejaVuSans-46\"/>\r\n       <use x=\"95.410156\" xlink:href=\"#DejaVuSans-53\"/>\r\n      </g>\r\n     </g>\r\n    </g>\r\n    <g id=\"xtick_4\">\r\n     <g id=\"line2d_4\">\r\n      <g>\r\n       <use style=\"stroke:#000000;stroke-width:0.8;\" x=\"205.667696\" xlink:href=\"#m1b54efda70\" y=\"224.64\"/>\r\n      </g>\r\n     </g>\r\n     <g id=\"text_4\">\r\n      <!-- 0.6 -->\r\n      <defs>\r\n       <path d=\"M 33.015625 40.375 \r\nQ 26.375 40.375 22.484375 35.828125 \r\nQ 18.609375 31.296875 18.609375 23.390625 \r\nQ 18.609375 15.53125 22.484375 10.953125 \r\nQ 26.375 6.390625 33.015625 6.390625 \r\nQ 39.65625 6.390625 43.53125 10.953125 \r\nQ 47.40625 15.53125 47.40625 23.390625 \r\nQ 47.40625 31.296875 43.53125 35.828125 \r\nQ 39.65625 40.375 33.015625 40.375 \r\nz\r\nM 52.59375 71.296875 \r\nL 52.59375 62.3125 \r\nQ 48.875 64.0625 45.09375 64.984375 \r\nQ 41.3125 65.921875 37.59375 65.921875 \r\nQ 27.828125 65.921875 22.671875 59.328125 \r\nQ 17.53125 52.734375 16.796875 39.40625 \r\nQ 19.671875 43.65625 24.015625 45.921875 \r\nQ 28.375 48.1875 33.59375 48.1875 \r\nQ 44.578125 48.1875 50.953125 41.515625 \r\nQ 57.328125 34.859375 57.328125 23.390625 \r\nQ 57.328125 12.15625 50.6875 5.359375 \r\nQ 44.046875 -1.421875 33.015625 -1.421875 \r\nQ 20.359375 -1.421875 13.671875 8.265625 \r\nQ 6.984375 17.96875 6.984375 36.375 \r\nQ 6.984375 53.65625 15.1875 63.9375 \r\nQ 23.390625 74.21875 37.203125 74.21875 \r\nQ 40.921875 74.21875 44.703125 73.484375 \r\nQ 48.484375 72.75 52.59375 71.296875 \r\nz\r\n\" id=\"DejaVuSans-54\"/>\r\n      </defs>\r\n      <g transform=\"translate(197.716134 239.238437)scale(0.1 -0.1)\">\r\n       <use xlink:href=\"#DejaVuSans-48\"/>\r\n       <use x=\"63.623047\" xlink:href=\"#DejaVuSans-46\"/>\r\n       <use x=\"95.410156\" xlink:href=\"#DejaVuSans-54\"/>\r\n      </g>\r\n     </g>\r\n    </g>\r\n    <g id=\"xtick_5\">\r\n     <g id=\"line2d_5\">\r\n      <g>\r\n       <use style=\"stroke:#000000;stroke-width:0.8;\" x=\"253.723089\" xlink:href=\"#m1b54efda70\" y=\"224.64\"/>\r\n      </g>\r\n     </g>\r\n     <g id=\"text_5\">\r\n      <!-- 0.7 -->\r\n      <defs>\r\n       <path d=\"M 8.203125 72.90625 \r\nL 55.078125 72.90625 \r\nL 55.078125 68.703125 \r\nL 28.609375 0 \r\nL 18.3125 0 \r\nL 43.21875 64.59375 \r\nL 8.203125 64.59375 \r\nz\r\n\" id=\"DejaVuSans-55\"/>\r\n      </defs>\r\n      <g transform=\"translate(245.771527 239.238437)scale(0.1 -0.1)\">\r\n       <use xlink:href=\"#DejaVuSans-48\"/>\r\n       <use x=\"63.623047\" xlink:href=\"#DejaVuSans-46\"/>\r\n       <use x=\"95.410156\" xlink:href=\"#DejaVuSans-55\"/>\r\n      </g>\r\n     </g>\r\n    </g>\r\n    <g id=\"xtick_6\">\r\n     <g id=\"line2d_6\">\r\n      <g>\r\n       <use style=\"stroke:#000000;stroke-width:0.8;\" x=\"301.778482\" xlink:href=\"#m1b54efda70\" y=\"224.64\"/>\r\n      </g>\r\n     </g>\r\n     <g id=\"text_6\">\r\n      <!-- 0.8 -->\r\n      <defs>\r\n       <path d=\"M 31.78125 34.625 \r\nQ 24.75 34.625 20.71875 30.859375 \r\nQ 16.703125 27.09375 16.703125 20.515625 \r\nQ 16.703125 13.921875 20.71875 10.15625 \r\nQ 24.75 6.390625 31.78125 6.390625 \r\nQ 38.8125 6.390625 42.859375 10.171875 \r\nQ 46.921875 13.96875 46.921875 20.515625 \r\nQ 46.921875 27.09375 42.890625 30.859375 \r\nQ 38.875 34.625 31.78125 34.625 \r\nz\r\nM 21.921875 38.8125 \r\nQ 15.578125 40.375 12.03125 44.71875 \r\nQ 8.5 49.078125 8.5 55.328125 \r\nQ 8.5 64.0625 14.71875 69.140625 \r\nQ 20.953125 74.21875 31.78125 74.21875 \r\nQ 42.671875 74.21875 48.875 69.140625 \r\nQ 55.078125 64.0625 55.078125 55.328125 \r\nQ 55.078125 49.078125 51.53125 44.71875 \r\nQ 48 40.375 41.703125 38.8125 \r\nQ 48.828125 37.15625 52.796875 32.3125 \r\nQ 56.78125 27.484375 56.78125 20.515625 \r\nQ 56.78125 9.90625 50.3125 4.234375 \r\nQ 43.84375 -1.421875 31.78125 -1.421875 \r\nQ 19.734375 -1.421875 13.25 4.234375 \r\nQ 6.78125 9.90625 6.78125 20.515625 \r\nQ 6.78125 27.484375 10.78125 32.3125 \r\nQ 14.796875 37.15625 21.921875 38.8125 \r\nz\r\nM 18.3125 54.390625 \r\nQ 18.3125 48.734375 21.84375 45.5625 \r\nQ 25.390625 42.390625 31.78125 42.390625 \r\nQ 38.140625 42.390625 41.71875 45.5625 \r\nQ 45.3125 48.734375 45.3125 54.390625 \r\nQ 45.3125 60.0625 41.71875 63.234375 \r\nQ 38.140625 66.40625 31.78125 66.40625 \r\nQ 25.390625 66.40625 21.84375 63.234375 \r\nQ 18.3125 60.0625 18.3125 54.390625 \r\nz\r\n\" id=\"DejaVuSans-56\"/>\r\n      </defs>\r\n      <g transform=\"translate(293.82692 239.238437)scale(0.1 -0.1)\">\r\n       <use xlink:href=\"#DejaVuSans-48\"/>\r\n       <use x=\"63.623047\" xlink:href=\"#DejaVuSans-46\"/>\r\n       <use x=\"95.410156\" xlink:href=\"#DejaVuSans-56\"/>\r\n      </g>\r\n     </g>\r\n    </g>\r\n    <g id=\"xtick_7\">\r\n     <g id=\"line2d_7\">\r\n      <g>\r\n       <use style=\"stroke:#000000;stroke-width:0.8;\" x=\"349.833875\" xlink:href=\"#m1b54efda70\" y=\"224.64\"/>\r\n      </g>\r\n     </g>\r\n     <g id=\"text_7\">\r\n      <!-- 0.9 -->\r\n      <defs>\r\n       <path d=\"M 10.984375 1.515625 \r\nL 10.984375 10.5 \r\nQ 14.703125 8.734375 18.5 7.8125 \r\nQ 22.3125 6.890625 25.984375 6.890625 \r\nQ 35.75 6.890625 40.890625 13.453125 \r\nQ 46.046875 20.015625 46.78125 33.40625 \r\nQ 43.953125 29.203125 39.59375 26.953125 \r\nQ 35.25 24.703125 29.984375 24.703125 \r\nQ 19.046875 24.703125 12.671875 31.3125 \r\nQ 6.296875 37.9375 6.296875 49.421875 \r\nQ 6.296875 60.640625 12.9375 67.421875 \r\nQ 19.578125 74.21875 30.609375 74.21875 \r\nQ 43.265625 74.21875 49.921875 64.515625 \r\nQ 56.59375 54.828125 56.59375 36.375 \r\nQ 56.59375 19.140625 48.40625 8.859375 \r\nQ 40.234375 -1.421875 26.421875 -1.421875 \r\nQ 22.703125 -1.421875 18.890625 -0.6875 \r\nQ 15.09375 0.046875 10.984375 1.515625 \r\nz\r\nM 30.609375 32.421875 \r\nQ 37.25 32.421875 41.125 36.953125 \r\nQ 45.015625 41.5 45.015625 49.421875 \r\nQ 45.015625 57.28125 41.125 61.84375 \r\nQ 37.25 66.40625 30.609375 66.40625 \r\nQ 23.96875 66.40625 20.09375 61.84375 \r\nQ 16.21875 57.28125 16.21875 49.421875 \r\nQ 16.21875 41.5 20.09375 36.953125 \r\nQ 23.96875 32.421875 30.609375 32.421875 \r\nz\r\n\" id=\"DejaVuSans-57\"/>\r\n      </defs>\r\n      <g transform=\"translate(341.882313 239.238437)scale(0.1 -0.1)\">\r\n       <use xlink:href=\"#DejaVuSans-48\"/>\r\n       <use x=\"63.623047\" xlink:href=\"#DejaVuSans-46\"/>\r\n       <use x=\"95.410156\" xlink:href=\"#DejaVuSans-57\"/>\r\n      </g>\r\n     </g>\r\n    </g>\r\n    <g id=\"text_8\">\r\n     <!-- accuracy -->\r\n     <defs>\r\n      <path d=\"M 34.28125 27.484375 \r\nQ 23.390625 27.484375 19.1875 25 \r\nQ 14.984375 22.515625 14.984375 16.5 \r\nQ 14.984375 11.71875 18.140625 8.90625 \r\nQ 21.296875 6.109375 26.703125 6.109375 \r\nQ 34.1875 6.109375 38.703125 11.40625 \r\nQ 43.21875 16.703125 43.21875 25.484375 \r\nL 43.21875 27.484375 \r\nz\r\nM 52.203125 31.203125 \r\nL 52.203125 0 \r\nL 43.21875 0 \r\nL 43.21875 8.296875 \r\nQ 40.140625 3.328125 35.546875 0.953125 \r\nQ 30.953125 -1.421875 24.3125 -1.421875 \r\nQ 15.921875 -1.421875 10.953125 3.296875 \r\nQ 6 8.015625 6 15.921875 \r\nQ 6 25.140625 12.171875 29.828125 \r\nQ 18.359375 34.515625 30.609375 34.515625 \r\nL 43.21875 34.515625 \r\nL 43.21875 35.40625 \r\nQ 43.21875 41.609375 39.140625 45 \r\nQ 35.0625 48.390625 27.6875 48.390625 \r\nQ 23 48.390625 18.546875 47.265625 \r\nQ 14.109375 46.140625 10.015625 43.890625 \r\nL 10.015625 52.203125 \r\nQ 14.9375 54.109375 19.578125 55.046875 \r\nQ 24.21875 56 28.609375 56 \r\nQ 40.484375 56 46.34375 49.84375 \r\nQ 52.203125 43.703125 52.203125 31.203125 \r\nz\r\n\" id=\"DejaVuSans-97\"/>\r\n      <path d=\"M 48.78125 52.59375 \r\nL 48.78125 44.1875 \r\nQ 44.96875 46.296875 41.140625 47.34375 \r\nQ 37.3125 48.390625 33.40625 48.390625 \r\nQ 24.65625 48.390625 19.8125 42.84375 \r\nQ 14.984375 37.3125 14.984375 27.296875 \r\nQ 14.984375 17.28125 19.8125 11.734375 \r\nQ 24.65625 6.203125 33.40625 6.203125 \r\nQ 37.3125 6.203125 41.140625 7.25 \r\nQ 44.96875 8.296875 48.78125 10.40625 \r\nL 48.78125 2.09375 \r\nQ 45.015625 0.34375 40.984375 -0.53125 \r\nQ 36.96875 -1.421875 32.421875 -1.421875 \r\nQ 20.0625 -1.421875 12.78125 6.34375 \r\nQ 5.515625 14.109375 5.515625 27.296875 \r\nQ 5.515625 40.671875 12.859375 48.328125 \r\nQ 20.21875 56 33.015625 56 \r\nQ 37.15625 56 41.109375 55.140625 \r\nQ 45.0625 54.296875 48.78125 52.59375 \r\nz\r\n\" id=\"DejaVuSans-99\"/>\r\n      <path d=\"M 8.5 21.578125 \r\nL 8.5 54.6875 \r\nL 17.484375 54.6875 \r\nL 17.484375 21.921875 \r\nQ 17.484375 14.15625 20.5 10.265625 \r\nQ 23.53125 6.390625 29.59375 6.390625 \r\nQ 36.859375 6.390625 41.078125 11.03125 \r\nQ 45.3125 15.671875 45.3125 23.6875 \r\nL 45.3125 54.6875 \r\nL 54.296875 54.6875 \r\nL 54.296875 0 \r\nL 45.3125 0 \r\nL 45.3125 8.40625 \r\nQ 42.046875 3.421875 37.71875 1 \r\nQ 33.40625 -1.421875 27.6875 -1.421875 \r\nQ 18.265625 -1.421875 13.375 4.4375 \r\nQ 8.5 10.296875 8.5 21.578125 \r\nz\r\nM 31.109375 56 \r\nz\r\n\" id=\"DejaVuSans-117\"/>\r\n      <path d=\"M 41.109375 46.296875 \r\nQ 39.59375 47.171875 37.8125 47.578125 \r\nQ 36.03125 48 33.890625 48 \r\nQ 26.265625 48 22.1875 43.046875 \r\nQ 18.109375 38.09375 18.109375 28.8125 \r\nL 18.109375 0 \r\nL 9.078125 0 \r\nL 9.078125 54.6875 \r\nL 18.109375 54.6875 \r\nL 18.109375 46.1875 \r\nQ 20.953125 51.171875 25.484375 53.578125 \r\nQ 30.03125 56 36.53125 56 \r\nQ 37.453125 56 38.578125 55.875 \r\nQ 39.703125 55.765625 41.0625 55.515625 \r\nz\r\n\" id=\"DejaVuSans-114\"/>\r\n      <path d=\"M 32.171875 -5.078125 \r\nQ 28.375 -14.84375 24.75 -17.8125 \r\nQ 21.140625 -20.796875 15.09375 -20.796875 \r\nL 7.90625 -20.796875 \r\nL 7.90625 -13.28125 \r\nL 13.1875 -13.28125 \r\nQ 16.890625 -13.28125 18.9375 -11.515625 \r\nQ 21 -9.765625 23.484375 -3.21875 \r\nL 25.09375 0.875 \r\nL 2.984375 54.6875 \r\nL 12.5 54.6875 \r\nL 29.59375 11.921875 \r\nL 46.6875 54.6875 \r\nL 56.203125 54.6875 \r\nz\r\n\" id=\"DejaVuSans-121\"/>\r\n     </defs>\r\n     <g transform=\"translate(181.30625 252.916562)scale(0.1 -0.1)\">\r\n      <use xlink:href=\"#DejaVuSans-97\"/>\r\n      <use x=\"61.279297\" xlink:href=\"#DejaVuSans-99\"/>\r\n      <use x=\"116.259766\" xlink:href=\"#DejaVuSans-99\"/>\r\n      <use x=\"171.240234\" xlink:href=\"#DejaVuSans-117\"/>\r\n      <use x=\"234.619141\" xlink:href=\"#DejaVuSans-114\"/>\r\n      <use x=\"275.732422\" xlink:href=\"#DejaVuSans-97\"/>\r\n      <use x=\"337.011719\" xlink:href=\"#DejaVuSans-99\"/>\r\n      <use x=\"391.992188\" xlink:href=\"#DejaVuSans-121\"/>\r\n     </g>\r\n    </g>\r\n   </g>\r\n   <g id=\"matplotlib.axis_2\">\r\n    <g id=\"ytick_1\">\r\n     <g id=\"line2d_8\">\r\n      <defs>\r\n       <path d=\"M 0 0 \r\nL -3.5 0 \r\n\" id=\"m06828e6e20\" style=\"stroke:#000000;stroke-width:0.8;\"/>\r\n      </defs>\r\n      <g>\r\n       <use style=\"stroke:#000000;stroke-width:0.8;\" x=\"36.465625\" xlink:href=\"#m06828e6e20\" y=\"214.756364\"/>\r\n      </g>\r\n     </g>\r\n     <g id=\"text_9\">\r\n      <!-- 0.0 -->\r\n      <g transform=\"translate(13.5625 218.555582)scale(0.1 -0.1)\">\r\n       <use xlink:href=\"#DejaVuSans-48\"/>\r\n       <use x=\"63.623047\" xlink:href=\"#DejaVuSans-46\"/>\r\n       <use x=\"95.410156\" xlink:href=\"#DejaVuSans-48\"/>\r\n      </g>\r\n     </g>\r\n    </g>\r\n    <g id=\"ytick_2\">\r\n     <g id=\"line2d_9\">\r\n      <g>\r\n       <use style=\"stroke:#000000;stroke-width:0.8;\" x=\"36.465625\" xlink:href=\"#m06828e6e20\" y=\"188.746794\"/>\r\n      </g>\r\n     </g>\r\n     <g id=\"text_10\">\r\n      <!-- 2.5 -->\r\n      <defs>\r\n       <path d=\"M 19.1875 8.296875 \r\nL 53.609375 8.296875 \r\nL 53.609375 0 \r\nL 7.328125 0 \r\nL 7.328125 8.296875 \r\nQ 12.9375 14.109375 22.625 23.890625 \r\nQ 32.328125 33.6875 34.8125 36.53125 \r\nQ 39.546875 41.84375 41.421875 45.53125 \r\nQ 43.3125 49.21875 43.3125 52.78125 \r\nQ 43.3125 58.59375 39.234375 62.25 \r\nQ 35.15625 65.921875 28.609375 65.921875 \r\nQ 23.96875 65.921875 18.8125 64.3125 \r\nQ 13.671875 62.703125 7.8125 59.421875 \r\nL 7.8125 69.390625 \r\nQ 13.765625 71.78125 18.9375 73 \r\nQ 24.125 74.21875 28.421875 74.21875 \r\nQ 39.75 74.21875 46.484375 68.546875 \r\nQ 53.21875 62.890625 53.21875 53.421875 \r\nQ 53.21875 48.921875 51.53125 44.890625 \r\nQ 49.859375 40.875 45.40625 35.40625 \r\nQ 44.1875 33.984375 37.640625 27.21875 \r\nQ 31.109375 20.453125 19.1875 8.296875 \r\nz\r\n\" id=\"DejaVuSans-50\"/>\r\n      </defs>\r\n      <g transform=\"translate(13.5625 192.546013)scale(0.1 -0.1)\">\r\n       <use xlink:href=\"#DejaVuSans-50\"/>\r\n       <use x=\"63.623047\" xlink:href=\"#DejaVuSans-46\"/>\r\n       <use x=\"95.410156\" xlink:href=\"#DejaVuSans-53\"/>\r\n      </g>\r\n     </g>\r\n    </g>\r\n    <g id=\"ytick_3\">\r\n     <g id=\"line2d_10\">\r\n      <g>\r\n       <use style=\"stroke:#000000;stroke-width:0.8;\" x=\"36.465625\" xlink:href=\"#m06828e6e20\" y=\"162.737225\"/>\r\n      </g>\r\n     </g>\r\n     <g id=\"text_11\">\r\n      <!-- 5.0 -->\r\n      <g transform=\"translate(13.5625 166.536444)scale(0.1 -0.1)\">\r\n       <use xlink:href=\"#DejaVuSans-53\"/>\r\n       <use x=\"63.623047\" xlink:href=\"#DejaVuSans-46\"/>\r\n       <use x=\"95.410156\" xlink:href=\"#DejaVuSans-48\"/>\r\n      </g>\r\n     </g>\r\n    </g>\r\n    <g id=\"ytick_4\">\r\n     <g id=\"line2d_11\">\r\n      <g>\r\n       <use style=\"stroke:#000000;stroke-width:0.8;\" x=\"36.465625\" xlink:href=\"#m06828e6e20\" y=\"136.727656\"/>\r\n      </g>\r\n     </g>\r\n     <g id=\"text_12\">\r\n      <!-- 7.5 -->\r\n      <g transform=\"translate(13.5625 140.526874)scale(0.1 -0.1)\">\r\n       <use xlink:href=\"#DejaVuSans-55\"/>\r\n       <use x=\"63.623047\" xlink:href=\"#DejaVuSans-46\"/>\r\n       <use x=\"95.410156\" xlink:href=\"#DejaVuSans-53\"/>\r\n      </g>\r\n     </g>\r\n    </g>\r\n    <g id=\"ytick_5\">\r\n     <g id=\"line2d_12\">\r\n      <g>\r\n       <use style=\"stroke:#000000;stroke-width:0.8;\" x=\"36.465625\" xlink:href=\"#m06828e6e20\" y=\"110.718086\"/>\r\n      </g>\r\n     </g>\r\n     <g id=\"text_13\">\r\n      <!-- 10.0 -->\r\n      <defs>\r\n       <path d=\"M 12.40625 8.296875 \r\nL 28.515625 8.296875 \r\nL 28.515625 63.921875 \r\nL 10.984375 60.40625 \r\nL 10.984375 69.390625 \r\nL 28.421875 72.90625 \r\nL 38.28125 72.90625 \r\nL 38.28125 8.296875 \r\nL 54.390625 8.296875 \r\nL 54.390625 0 \r\nL 12.40625 0 \r\nz\r\n\" id=\"DejaVuSans-49\"/>\r\n      </defs>\r\n      <g transform=\"translate(7.2 114.517305)scale(0.1 -0.1)\">\r\n       <use xlink:href=\"#DejaVuSans-49\"/>\r\n       <use x=\"63.623047\" xlink:href=\"#DejaVuSans-48\"/>\r\n       <use x=\"127.246094\" xlink:href=\"#DejaVuSans-46\"/>\r\n       <use x=\"159.033203\" xlink:href=\"#DejaVuSans-48\"/>\r\n      </g>\r\n     </g>\r\n    </g>\r\n    <g id=\"ytick_6\">\r\n     <g id=\"line2d_13\">\r\n      <g>\r\n       <use style=\"stroke:#000000;stroke-width:0.8;\" x=\"36.465625\" xlink:href=\"#m06828e6e20\" y=\"84.708517\"/>\r\n      </g>\r\n     </g>\r\n     <g id=\"text_14\">\r\n      <!-- 12.5 -->\r\n      <g transform=\"translate(7.2 88.507735)scale(0.1 -0.1)\">\r\n       <use xlink:href=\"#DejaVuSans-49\"/>\r\n       <use x=\"63.623047\" xlink:href=\"#DejaVuSans-50\"/>\r\n       <use x=\"127.246094\" xlink:href=\"#DejaVuSans-46\"/>\r\n       <use x=\"159.033203\" xlink:href=\"#DejaVuSans-53\"/>\r\n      </g>\r\n     </g>\r\n    </g>\r\n    <g id=\"ytick_7\">\r\n     <g id=\"line2d_14\">\r\n      <g>\r\n       <use style=\"stroke:#000000;stroke-width:0.8;\" x=\"36.465625\" xlink:href=\"#m06828e6e20\" y=\"58.698947\"/>\r\n      </g>\r\n     </g>\r\n     <g id=\"text_15\">\r\n      <!-- 15.0 -->\r\n      <g transform=\"translate(7.2 62.498166)scale(0.1 -0.1)\">\r\n       <use xlink:href=\"#DejaVuSans-49\"/>\r\n       <use x=\"63.623047\" xlink:href=\"#DejaVuSans-53\"/>\r\n       <use x=\"127.246094\" xlink:href=\"#DejaVuSans-46\"/>\r\n       <use x=\"159.033203\" xlink:href=\"#DejaVuSans-48\"/>\r\n      </g>\r\n     </g>\r\n    </g>\r\n    <g id=\"ytick_8\">\r\n     <g id=\"line2d_15\">\r\n      <g>\r\n       <use style=\"stroke:#000000;stroke-width:0.8;\" x=\"36.465625\" xlink:href=\"#m06828e6e20\" y=\"32.689378\"/>\r\n      </g>\r\n     </g>\r\n     <g id=\"text_16\">\r\n      <!-- 17.5 -->\r\n      <g transform=\"translate(7.2 36.488597)scale(0.1 -0.1)\">\r\n       <use xlink:href=\"#DejaVuSans-49\"/>\r\n       <use x=\"63.623047\" xlink:href=\"#DejaVuSans-55\"/>\r\n       <use x=\"127.246094\" xlink:href=\"#DejaVuSans-46\"/>\r\n       <use x=\"159.033203\" xlink:href=\"#DejaVuSans-53\"/>\r\n      </g>\r\n     </g>\r\n    </g>\r\n   </g>\r\n   <g id=\"line2d_16\">\r\n    <path clip-path=\"url(#p78642b7c38)\" d=\"M 51.683807 214.756364 \r\nL 63.601531 204.352536 \r\nL 90.872966 193.948708 \r\nL 105.025294 183.54488 \r\nL 123.122942 173.141053 \r\nL 151.312236 162.737225 \r\nL 181.149834 152.333397 \r\nL 217.623886 141.929569 \r\nL 246.995329 131.525742 \r\nL 275.189421 121.121914 \r\nL 275.338394 110.718086 \r\nL 289.394609 100.314258 \r\nL 300.106152 89.910431 \r\nL 338.074723 79.506603 \r\nL 321.735899 69.102775 \r\nL 332.452225 58.698947 \r\nL 324.883505 48.29512 \r\nL 336.407199 37.891292 \r\nL 342.58231 27.487464 \r\nL 356.047443 17.083636 \r\n\" style=\"fill:none;stroke:#1f77b4;stroke-linecap:square;stroke-width:1.5;\"/>\r\n   </g>\r\n   <g id=\"line2d_17\">\r\n    <path clip-path=\"url(#p78642b7c38)\" d=\"M 51.683807 184.060661 \r\nL 63.601531 185.415216 \r\nL 90.872966 188.807876 \r\nL 105.025294 190.431187 \r\nL 123.122942 192.254974 \r\nL 151.312236 195.002572 \r\nL 181.149834 197.93171 \r\nL 217.623886 201.121946 \r\nL 246.995329 203.545245 \r\nL 275.189421 205.856983 \r\nL 275.338394 205.84934 \r\nL 289.394609 206.952958 \r\nL 300.106152 207.761541 \r\nL 338.074723 210.54275 \r\nL 321.735899 209.442981 \r\nL 332.452225 210.185739 \r\nL 324.883505 209.649062 \r\nL 336.407199 210.458238 \r\nL 342.58231 210.90115 \r\nL 356.047443 211.849601 \r\n\" style=\"fill:none;stroke:#ff7f0e;stroke-linecap:square;stroke-width:1.5;\"/>\r\n   </g>\r\n   <g id=\"patch_3\">\r\n    <path d=\"M 36.465625 224.64 \r\nL 36.465625 7.2 \r\n\" style=\"fill:none;stroke:#000000;stroke-linecap:square;stroke-linejoin:miter;stroke-width:0.8;\"/>\r\n   </g>\r\n   <g id=\"patch_4\">\r\n    <path d=\"M 371.265625 224.64 \r\nL 371.265625 7.2 \r\n\" style=\"fill:none;stroke:#000000;stroke-linecap:square;stroke-linejoin:miter;stroke-width:0.8;\"/>\r\n   </g>\r\n   <g id=\"patch_5\">\r\n    <path d=\"M 36.465625 224.64 \r\nL 371.265625 224.64 \r\n\" style=\"fill:none;stroke:#000000;stroke-linecap:square;stroke-linejoin:miter;stroke-width:0.8;\"/>\r\n   </g>\r\n   <g id=\"patch_6\">\r\n    <path d=\"M 36.465625 7.2 \r\nL 371.265625 7.2 \r\n\" style=\"fill:none;stroke:#000000;stroke-linecap:square;stroke-linejoin:miter;stroke-width:0.8;\"/>\r\n   </g>\r\n   <g id=\"legend_1\">\r\n    <g id=\"patch_7\">\r\n     <path d=\"M 43.465625 44.55625 \r\nL 105.921875 44.55625 \r\nQ 107.921875 44.55625 107.921875 42.55625 \r\nL 107.921875 14.2 \r\nQ 107.921875 12.2 105.921875 12.2 \r\nL 43.465625 12.2 \r\nQ 41.465625 12.2 41.465625 14.2 \r\nL 41.465625 42.55625 \r\nQ 41.465625 44.55625 43.465625 44.55625 \r\nz\r\n\" style=\"fill:#ffffff;opacity:0.8;stroke:#cccccc;stroke-linejoin:miter;\"/>\r\n    </g>\r\n    <g id=\"line2d_18\">\r\n     <path d=\"M 45.465625 20.298437 \r\nL 65.465625 20.298437 \r\n\" style=\"fill:none;stroke:#1f77b4;stroke-linecap:square;stroke-width:1.5;\"/>\r\n    </g>\r\n    <g id=\"line2d_19\"/>\r\n    <g id=\"text_17\">\r\n     <!-- epoch -->\r\n     <defs>\r\n      <path d=\"M 56.203125 29.59375 \r\nL 56.203125 25.203125 \r\nL 14.890625 25.203125 \r\nQ 15.484375 15.921875 20.484375 11.0625 \r\nQ 25.484375 6.203125 34.421875 6.203125 \r\nQ 39.59375 6.203125 44.453125 7.46875 \r\nQ 49.3125 8.734375 54.109375 11.28125 \r\nL 54.109375 2.78125 \r\nQ 49.265625 0.734375 44.1875 -0.34375 \r\nQ 39.109375 -1.421875 33.890625 -1.421875 \r\nQ 20.796875 -1.421875 13.15625 6.1875 \r\nQ 5.515625 13.8125 5.515625 26.8125 \r\nQ 5.515625 40.234375 12.765625 48.109375 \r\nQ 20.015625 56 32.328125 56 \r\nQ 43.359375 56 49.78125 48.890625 \r\nQ 56.203125 41.796875 56.203125 29.59375 \r\nz\r\nM 47.21875 32.234375 \r\nQ 47.125 39.59375 43.09375 43.984375 \r\nQ 39.0625 48.390625 32.421875 48.390625 \r\nQ 24.90625 48.390625 20.390625 44.140625 \r\nQ 15.875 39.890625 15.1875 32.171875 \r\nz\r\n\" id=\"DejaVuSans-101\"/>\r\n      <path d=\"M 18.109375 8.203125 \r\nL 18.109375 -20.796875 \r\nL 9.078125 -20.796875 \r\nL 9.078125 54.6875 \r\nL 18.109375 54.6875 \r\nL 18.109375 46.390625 \r\nQ 20.953125 51.265625 25.265625 53.625 \r\nQ 29.59375 56 35.59375 56 \r\nQ 45.5625 56 51.78125 48.09375 \r\nQ 58.015625 40.1875 58.015625 27.296875 \r\nQ 58.015625 14.40625 51.78125 6.484375 \r\nQ 45.5625 -1.421875 35.59375 -1.421875 \r\nQ 29.59375 -1.421875 25.265625 0.953125 \r\nQ 20.953125 3.328125 18.109375 8.203125 \r\nz\r\nM 48.6875 27.296875 \r\nQ 48.6875 37.203125 44.609375 42.84375 \r\nQ 40.53125 48.484375 33.40625 48.484375 \r\nQ 26.265625 48.484375 22.1875 42.84375 \r\nQ 18.109375 37.203125 18.109375 27.296875 \r\nQ 18.109375 17.390625 22.1875 11.75 \r\nQ 26.265625 6.109375 33.40625 6.109375 \r\nQ 40.53125 6.109375 44.609375 11.75 \r\nQ 48.6875 17.390625 48.6875 27.296875 \r\nz\r\n\" id=\"DejaVuSans-112\"/>\r\n      <path d=\"M 30.609375 48.390625 \r\nQ 23.390625 48.390625 19.1875 42.75 \r\nQ 14.984375 37.109375 14.984375 27.296875 \r\nQ 14.984375 17.484375 19.15625 11.84375 \r\nQ 23.34375 6.203125 30.609375 6.203125 \r\nQ 37.796875 6.203125 41.984375 11.859375 \r\nQ 46.1875 17.53125 46.1875 27.296875 \r\nQ 46.1875 37.015625 41.984375 42.703125 \r\nQ 37.796875 48.390625 30.609375 48.390625 \r\nz\r\nM 30.609375 56 \r\nQ 42.328125 56 49.015625 48.375 \r\nQ 55.71875 40.765625 55.71875 27.296875 \r\nQ 55.71875 13.875 49.015625 6.21875 \r\nQ 42.328125 -1.421875 30.609375 -1.421875 \r\nQ 18.84375 -1.421875 12.171875 6.21875 \r\nQ 5.515625 13.875 5.515625 27.296875 \r\nQ 5.515625 40.765625 12.171875 48.375 \r\nQ 18.84375 56 30.609375 56 \r\nz\r\n\" id=\"DejaVuSans-111\"/>\r\n      <path d=\"M 54.890625 33.015625 \r\nL 54.890625 0 \r\nL 45.90625 0 \r\nL 45.90625 32.71875 \r\nQ 45.90625 40.484375 42.875 44.328125 \r\nQ 39.84375 48.1875 33.796875 48.1875 \r\nQ 26.515625 48.1875 22.3125 43.546875 \r\nQ 18.109375 38.921875 18.109375 30.90625 \r\nL 18.109375 0 \r\nL 9.078125 0 \r\nL 9.078125 75.984375 \r\nL 18.109375 75.984375 \r\nL 18.109375 46.1875 \r\nQ 21.34375 51.125 25.703125 53.5625 \r\nQ 30.078125 56 35.796875 56 \r\nQ 45.21875 56 50.046875 50.171875 \r\nQ 54.890625 44.34375 54.890625 33.015625 \r\nz\r\n\" id=\"DejaVuSans-104\"/>\r\n     </defs>\r\n     <g transform=\"translate(73.465625 23.798437)scale(0.1 -0.1)\">\r\n      <use xlink:href=\"#DejaVuSans-101\"/>\r\n      <use x=\"61.523438\" xlink:href=\"#DejaVuSans-112\"/>\r\n      <use x=\"125\" xlink:href=\"#DejaVuSans-111\"/>\r\n      <use x=\"186.181641\" xlink:href=\"#DejaVuSans-99\"/>\r\n      <use x=\"241.162109\" xlink:href=\"#DejaVuSans-104\"/>\r\n     </g>\r\n    </g>\r\n    <g id=\"line2d_20\">\r\n     <path d=\"M 45.465625 34.976562 \r\nL 65.465625 34.976562 \r\n\" style=\"fill:none;stroke:#ff7f0e;stroke-linecap:square;stroke-width:1.5;\"/>\r\n    </g>\r\n    <g id=\"line2d_21\"/>\r\n    <g id=\"text_18\">\r\n     <!-- loss -->\r\n     <defs>\r\n      <path d=\"M 9.421875 75.984375 \r\nL 18.40625 75.984375 \r\nL 18.40625 0 \r\nL 9.421875 0 \r\nz\r\n\" id=\"DejaVuSans-108\"/>\r\n      <path d=\"M 44.28125 53.078125 \r\nL 44.28125 44.578125 \r\nQ 40.484375 46.53125 36.375 47.5 \r\nQ 32.28125 48.484375 27.875 48.484375 \r\nQ 21.1875 48.484375 17.84375 46.4375 \r\nQ 14.5 44.390625 14.5 40.28125 \r\nQ 14.5 37.15625 16.890625 35.375 \r\nQ 19.28125 33.59375 26.515625 31.984375 \r\nL 29.59375 31.296875 \r\nQ 39.15625 29.25 43.1875 25.515625 \r\nQ 47.21875 21.78125 47.21875 15.09375 \r\nQ 47.21875 7.46875 41.1875 3.015625 \r\nQ 35.15625 -1.421875 24.609375 -1.421875 \r\nQ 20.21875 -1.421875 15.453125 -0.5625 \r\nQ 10.6875 0.296875 5.421875 2 \r\nL 5.421875 11.28125 \r\nQ 10.40625 8.6875 15.234375 7.390625 \r\nQ 20.0625 6.109375 24.8125 6.109375 \r\nQ 31.15625 6.109375 34.5625 8.28125 \r\nQ 37.984375 10.453125 37.984375 14.40625 \r\nQ 37.984375 18.0625 35.515625 20.015625 \r\nQ 33.0625 21.96875 24.703125 23.78125 \r\nL 21.578125 24.515625 \r\nQ 13.234375 26.265625 9.515625 29.90625 \r\nQ 5.8125 33.546875 5.8125 39.890625 \r\nQ 5.8125 47.609375 11.28125 51.796875 \r\nQ 16.75 56 26.8125 56 \r\nQ 31.78125 56 36.171875 55.265625 \r\nQ 40.578125 54.546875 44.28125 53.078125 \r\nz\r\n\" id=\"DejaVuSans-115\"/>\r\n     </defs>\r\n     <g transform=\"translate(73.465625 38.476562)scale(0.1 -0.1)\">\r\n      <use xlink:href=\"#DejaVuSans-108\"/>\r\n      <use x=\"27.783203\" xlink:href=\"#DejaVuSans-111\"/>\r\n      <use x=\"88.964844\" xlink:href=\"#DejaVuSans-115\"/>\r\n      <use x=\"141.064453\" xlink:href=\"#DejaVuSans-115\"/>\r\n     </g>\r\n    </g>\r\n   </g>\r\n  </g>\r\n </g>\r\n <defs>\r\n  <clipPath id=\"p78642b7c38\">\r\n   <rect height=\"217.44\" width=\"334.8\" x=\"36.465625\" y=\"7.2\"/>\r\n  </clipPath>\r\n </defs>\r\n</svg>\r\n",
      "image/png": "[encoded data removed]"
     },
     "metadata": {
      "needs_background": "light"
     }
    }
   ],
   "source": [
    "import matplotlib.pyplot as plt\n",
    "\n",
    "filename='log.csv'\n",
    "df=pd.read_csv(filename,delimiter=';')\n",
    "plot = df.plot.line('accuracy')\n",
    "plt.show()\n"
   ]
  },
  {
   "cell_type": "code",
   "execution_count": 96,
   "metadata": {
    "tags": []
   },
   "outputs": [
    {
     "output_type": "stream",
     "name": "stdout",
     "text": "Model: \"ResNet50\"\n__________________________________________________________________________________________________\nLayer (type)                    Output Shape         Param #     Connected to                     \n==================================================================================================\ninput_2 (InputLayer)            [(None, 32, 32, 3)]  0                                            \n__________________________________________________________________________________________________\nzero_padding2d_1 (ZeroPadding2D (None, 38, 38, 3)    0           input_2[0][0]                    \n__________________________________________________________________________________________________\nconv1 (Conv2D)                  (None, 16, 16, 64)   9472        zero_padding2d_1[0][0]           \n__________________________________________________________________________________________________\nbn_conv1 (BatchNormalization)   (None, 16, 16, 64)   256         conv1[0][0]                      \n__________________________________________________________________________________________________\nactivation_49 (Activation)      (None, 16, 16, 64)   0           bn_conv1[0][0]                   \n__________________________________________________________________________________________________\nmax_pooling2d_1 (MaxPooling2D)  (None, 7, 7, 64)     0           activation_49[0][0]              \n__________________________________________________________________________________________________\nRES2a_branch2a (Conv2D)         (None, 7, 7, 64)     4160        max_pooling2d_1[0][0]            \n__________________________________________________________________________________________________\nBN2a_branch2a (BatchNormalizati (None, 7, 7, 64)     256         RES2a_branch2a[0][0]             \n__________________________________________________________________________________________________\nactivation_50 (Activation)      (None, 7, 7, 64)     0           BN2a_branch2a[0][0]              \n__________________________________________________________________________________________________\nRES2a_branch2b (Conv2D)         (None, 7, 7, 64)     36928       activation_50[0][0]              \n__________________________________________________________________________________________________\nBN2a_branch2b (BatchNormalizati (None, 7, 7, 64)     256         RES2a_branch2b[0][0]             \n__________________________________________________________________________________________________\nactivation_51 (Activation)      (None, 7, 7, 64)     0           BN2a_branch2b[0][0]              \n__________________________________________________________________________________________________\nRES2a_branch2c (Conv2D)         (None, 7, 7, 256)    16640       activation_51[0][0]              \n__________________________________________________________________________________________________\nRES2a_branch1 (Conv2D)          (None, 7, 7, 256)    16640       max_pooling2d_1[0][0]            \n__________________________________________________________________________________________________\nBN2a_branch2c (BatchNormalizati (None, 7, 7, 256)    1024        RES2a_branch2c[0][0]             \n__________________________________________________________________________________________________\nBN2a_branch1 (BatchNormalizatio (None, 7, 7, 256)    1024        RES2a_branch1[0][0]              \n__________________________________________________________________________________________________\nadd_16 (Add)                    (None, 7, 7, 256)    0           BN2a_branch2c[0][0]              \n                                                                 BN2a_branch1[0][0]               \n__________________________________________________________________________________________________\nactivation_52 (Activation)      (None, 7, 7, 256)    0           add_16[0][0]                     \n__________________________________________________________________________________________________\nRES2b_branch2a (Conv2D)         (None, 7, 7, 64)     16448       activation_52[0][0]              \n__________________________________________________________________________________________________\nBN2b_branch2a (BatchNormalizati (None, 7, 7, 64)     256         RES2b_branch2a[0][0]             \n__________________________________________________________________________________________________\nactivation_53 (Activation)      (None, 7, 7, 64)     0           BN2b_branch2a[0][0]              \n__________________________________________________________________________________________________\nRES2b_branch2b (Conv2D)         (None, 7, 7, 64)     36928       activation_53[0][0]              \n__________________________________________________________________________________________________\nBN2b_branch2b (BatchNormalizati (None, 7, 7, 64)     256         RES2b_branch2b[0][0]             \n__________________________________________________________________________________________________\nactivation_54 (Activation)      (None, 7, 7, 64)     0           BN2b_branch2b[0][0]              \n__________________________________________________________________________________________________\nRES2b_branch2c (Conv2D)         (None, 7, 7, 256)    16640       activation_54[0][0]              \n__________________________________________________________________________________________________\nBN2b_branch2c (BatchNormalizati (None, 7, 7, 256)    1024        RES2b_branch2c[0][0]             \n__________________________________________________________________________________________________\nadd_17 (Add)                    (None, 7, 7, 256)    0           activation_52[0][0]              \n                                                                 BN2b_branch2c[0][0]              \n__________________________________________________________________________________________________\nactivation_55 (Activation)      (None, 7, 7, 256)    0           add_17[0][0]                     \n__________________________________________________________________________________________________\nRES2c_branch2a (Conv2D)         (None, 7, 7, 64)     16448       activation_55[0][0]              \n__________________________________________________________________________________________________\nBN2c_branch2a (BatchNormalizati (None, 7, 7, 64)     256         RES2c_branch2a[0][0]             \n__________________________________________________________________________________________________\nactivation_56 (Activation)      (None, 7, 7, 64)     0           BN2c_branch2a[0][0]              \n__________________________________________________________________________________________________\nRES2c_branch2b (Conv2D)         (None, 7, 7, 64)     36928       activation_56[0][0]              \n__________________________________________________________________________________________________\nBN2c_branch2b (BatchNormalizati (None, 7, 7, 64)     256         RES2c_branch2b[0][0]             \n__________________________________________________________________________________________________\nactivation_57 (Activation)      (None, 7, 7, 64)     0           BN2c_branch2b[0][0]              \n__________________________________________________________________________________________________\nRES2c_branch2c (Conv2D)         (None, 7, 7, 256)    16640       activation_57[0][0]              \n__________________________________________________________________________________________________\nBN2c_branch2c (BatchNormalizati (None, 7, 7, 256)    1024        RES2c_branch2c[0][0]             \n__________________________________________________________________________________________________\nadd_18 (Add)                    (None, 7, 7, 256)    0           activation_55[0][0]              \n                                                                 BN2c_branch2c[0][0]              \n__________________________________________________________________________________________________\nactivation_58 (Activation)      (None, 7, 7, 256)    0           add_18[0][0]                     \n__________________________________________________________________________________________________\nRES3a_branch2a (Conv2D)         (None, 4, 4, 128)    32896       activation_58[0][0]              \n__________________________________________________________________________________________________\nBN3a_branch2a (BatchNormalizati (None, 4, 4, 128)    512         RES3a_branch2a[0][0]             \n__________________________________________________________________________________________________\nactivation_59 (Activation)      (None, 4, 4, 128)    0           BN3a_branch2a[0][0]              \n__________________________________________________________________________________________________\nRES3a_branch2b (Conv2D)         (None, 4, 4, 128)    147584      activation_59[0][0]              \n__________________________________________________________________________________________________\nBN3a_branch2b (BatchNormalizati (None, 4, 4, 128)    512         RES3a_branch2b[0][0]             \n__________________________________________________________________________________________________\nactivation_60 (Activation)      (None, 4, 4, 128)    0           BN3a_branch2b[0][0]              \n__________________________________________________________________________________________________\nRES3a_branch2c (Conv2D)         (None, 4, 4, 512)    66048       activation_60[0][0]              \n__________________________________________________________________________________________________\nRES3a_branch1 (Conv2D)          (None, 4, 4, 512)    131584      activation_58[0][0]              \n__________________________________________________________________________________________________\nBN3a_branch2c (BatchNormalizati (None, 4, 4, 512)    2048        RES3a_branch2c[0][0]             \n__________________________________________________________________________________________________\nBN3a_branch1 (BatchNormalizatio (None, 4, 4, 512)    2048        RES3a_branch1[0][0]              \n__________________________________________________________________________________________________\nadd_19 (Add)                    (None, 4, 4, 512)    0           BN3a_branch2c[0][0]              \n                                                                 BN3a_branch1[0][0]               \n__________________________________________________________________________________________________\nactivation_61 (Activation)      (None, 4, 4, 512)    0           add_19[0][0]                     \n__________________________________________________________________________________________________\nRES3b_branch2a (Conv2D)         (None, 4, 4, 128)    65664       activation_61[0][0]              \n__________________________________________________________________________________________________\nBN3b_branch2a (BatchNormalizati (None, 4, 4, 128)    512         RES3b_branch2a[0][0]             \n__________________________________________________________________________________________________\nactivation_62 (Activation)      (None, 4, 4, 128)    0           BN3b_branch2a[0][0]              \n__________________________________________________________________________________________________\nRES3b_branch2b (Conv2D)         (None, 4, 4, 128)    147584      activation_62[0][0]              \n__________________________________________________________________________________________________\nBN3b_branch2b (BatchNormalizati (None, 4, 4, 128)    512         RES3b_branch2b[0][0]             \n__________________________________________________________________________________________________\nactivation_63 (Activation)      (None, 4, 4, 128)    0           BN3b_branch2b[0][0]              \n__________________________________________________________________________________________________\nRES3b_branch2c (Conv2D)         (None, 4, 4, 512)    66048       activation_63[0][0]              \n__________________________________________________________________________________________________\nBN3b_branch2c (BatchNormalizati (None, 4, 4, 512)    2048        RES3b_branch2c[0][0]             \n__________________________________________________________________________________________________\nadd_20 (Add)                    (None, 4, 4, 512)    0           activation_61[0][0]              \n                                                                 BN3b_branch2c[0][0]              \n__________________________________________________________________________________________________\nactivation_64 (Activation)      (None, 4, 4, 512)    0           add_20[0][0]                     \n__________________________________________________________________________________________________\nRES3c_branch2a (Conv2D)         (None, 4, 4, 128)    65664       activation_64[0][0]              \n__________________________________________________________________________________________________\nBN3c_branch2a (BatchNormalizati (None, 4, 4, 128)    512         RES3c_branch2a[0][0]             \n__________________________________________________________________________________________________\nactivation_65 (Activation)      (None, 4, 4, 128)    0           BN3c_branch2a[0][0]              \n__________________________________________________________________________________________________\nRES3c_branch2b (Conv2D)         (None, 4, 4, 128)    147584      activation_65[0][0]              \n__________________________________________________________________________________________________\nBN3c_branch2b (BatchNormalizati (None, 4, 4, 128)    512         RES3c_branch2b[0][0]             \n__________________________________________________________________________________________________\nactivation_66 (Activation)      (None, 4, 4, 128)    0           BN3c_branch2b[0][0]              \n__________________________________________________________________________________________________\nRES3c_branch2c (Conv2D)         (None, 4, 4, 512)    66048       activation_66[0][0]              \n__________________________________________________________________________________________________\nBN3c_branch2c (BatchNormalizati (None, 4, 4, 512)    2048        RES3c_branch2c[0][0]             \n__________________________________________________________________________________________________\nadd_21 (Add)                    (None, 4, 4, 512)    0           activation_64[0][0]              \n                                                                 BN3c_branch2c[0][0]              \n__________________________________________________________________________________________________\nactivation_67 (Activation)      (None, 4, 4, 512)    0           add_21[0][0]                     \n__________________________________________________________________________________________________\nRES3d_branch2a (Conv2D)         (None, 4, 4, 128)    65664       activation_67[0][0]              \n__________________________________________________________________________________________________\nBN3d_branch2a (BatchNormalizati (None, 4, 4, 128)    512         RES3d_branch2a[0][0]             \n__________________________________________________________________________________________________\nactivation_68 (Activation)      (None, 4, 4, 128)    0           BN3d_branch2a[0][0]              \n__________________________________________________________________________________________________\nRES3d_branch2b (Conv2D)         (None, 4, 4, 128)    147584      activation_68[0][0]              \n__________________________________________________________________________________________________\nBN3d_branch2b (BatchNormalizati (None, 4, 4, 128)    512         RES3d_branch2b[0][0]             \n__________________________________________________________________________________________________\nactivation_69 (Activation)      (None, 4, 4, 128)    0           BN3d_branch2b[0][0]              \n__________________________________________________________________________________________________\nRES3d_branch2c (Conv2D)         (None, 4, 4, 512)    66048       activation_69[0][0]              \n__________________________________________________________________________________________________\nBN3d_branch2c (BatchNormalizati (None, 4, 4, 512)    2048        RES3d_branch2c[0][0]             \n__________________________________________________________________________________________________\nadd_22 (Add)                    (None, 4, 4, 512)    0           activation_67[0][0]              \n                                                                 BN3d_branch2c[0][0]              \n__________________________________________________________________________________________________\nactivation_70 (Activation)      (None, 4, 4, 512)    0           add_22[0][0]                     \n__________________________________________________________________________________________________\nRES4a_branch2a (Conv2D)         (None, 2, 2, 256)    131328      activation_70[0][0]              \n__________________________________________________________________________________________________\nBN4a_branch2a (BatchNormalizati (None, 2, 2, 256)    1024        RES4a_branch2a[0][0]             \n__________________________________________________________________________________________________\nactivation_71 (Activation)      (None, 2, 2, 256)    0           BN4a_branch2a[0][0]              \n__________________________________________________________________________________________________\nRES4a_branch2b (Conv2D)         (None, 2, 2, 256)    590080      activation_71[0][0]              \n__________________________________________________________________________________________________\nBN4a_branch2b (BatchNormalizati (None, 2, 2, 256)    1024        RES4a_branch2b[0][0]             \n__________________________________________________________________________________________________\nactivation_72 (Activation)      (None, 2, 2, 256)    0           BN4a_branch2b[0][0]              \n__________________________________________________________________________________________________\nRES4a_branch2c (Conv2D)         (None, 2, 2, 1024)   263168      activation_72[0][0]              \n__________________________________________________________________________________________________\nRES4a_branch1 (Conv2D)          (None, 2, 2, 1024)   525312      activation_70[0][0]              \n__________________________________________________________________________________________________\nBN4a_branch2c (BatchNormalizati (None, 2, 2, 1024)   4096        RES4a_branch2c[0][0]             \n__________________________________________________________________________________________________\nBN4a_branch1 (BatchNormalizatio (None, 2, 2, 1024)   4096        RES4a_branch1[0][0]              \n__________________________________________________________________________________________________\nadd_23 (Add)                    (None, 2, 2, 1024)   0           BN4a_branch2c[0][0]              \n                                                                 BN4a_branch1[0][0]               \n__________________________________________________________________________________________________\nactivation_73 (Activation)      (None, 2, 2, 1024)   0           add_23[0][0]                     \n__________________________________________________________________________________________________\nRES4b_branch2a (Conv2D)         (None, 2, 2, 256)    262400      activation_73[0][0]              \n__________________________________________________________________________________________________\nBN4b_branch2a (BatchNormalizati (None, 2, 2, 256)    1024        RES4b_branch2a[0][0]             \n__________________________________________________________________________________________________\nactivation_74 (Activation)      (None, 2, 2, 256)    0           BN4b_branch2a[0][0]              \n__________________________________________________________________________________________________\nRES4b_branch2b (Conv2D)         (None, 2, 2, 256)    590080      activation_74[0][0]              \n__________________________________________________________________________________________________\nBN4b_branch2b (BatchNormalizati (None, 2, 2, 256)    1024        RES4b_branch2b[0][0]             \n__________________________________________________________________________________________________\nactivation_75 (Activation)      (None, 2, 2, 256)    0           BN4b_branch2b[0][0]              \n__________________________________________________________________________________________________\nRES4b_branch2c (Conv2D)         (None, 2, 2, 1024)   263168      activation_75[0][0]              \n__________________________________________________________________________________________________\nBN4b_branch2c (BatchNormalizati (None, 2, 2, 1024)   4096        RES4b_branch2c[0][0]             \n__________________________________________________________________________________________________\nadd_24 (Add)                    (None, 2, 2, 1024)   0           activation_73[0][0]              \n                                                                 BN4b_branch2c[0][0]              \n__________________________________________________________________________________________________\nactivation_76 (Activation)      (None, 2, 2, 1024)   0           add_24[0][0]                     \n__________________________________________________________________________________________________\nRES4c_branch2a (Conv2D)         (None, 2, 2, 256)    262400      activation_76[0][0]              \n__________________________________________________________________________________________________\nBN4c_branch2a (BatchNormalizati (None, 2, 2, 256)    1024        RES4c_branch2a[0][0]             \n__________________________________________________________________________________________________\nactivation_77 (Activation)      (None, 2, 2, 256)    0           BN4c_branch2a[0][0]              \n__________________________________________________________________________________________________\nRES4c_branch2b (Conv2D)         (None, 2, 2, 256)    590080      activation_77[0][0]              \n__________________________________________________________________________________________________\nBN4c_branch2b (BatchNormalizati (None, 2, 2, 256)    1024        RES4c_branch2b[0][0]             \n__________________________________________________________________________________________________\nactivation_78 (Activation)      (None, 2, 2, 256)    0           BN4c_branch2b[0][0]              \n__________________________________________________________________________________________________\nRES4c_branch2c (Conv2D)         (None, 2, 2, 1024)   263168      activation_78[0][0]              \n__________________________________________________________________________________________________\nBN4c_branch2c (BatchNormalizati (None, 2, 2, 1024)   4096        RES4c_branch2c[0][0]             \n__________________________________________________________________________________________________\nadd_25 (Add)                    (None, 2, 2, 1024)   0           activation_76[0][0]              \n                                                                 BN4c_branch2c[0][0]              \n__________________________________________________________________________________________________\nactivation_79 (Activation)      (None, 2, 2, 1024)   0           add_25[0][0]                     \n__________________________________________________________________________________________________\nRES4d_branch2a (Conv2D)         (None, 2, 2, 256)    262400      activation_79[0][0]              \n__________________________________________________________________________________________________\nBN4d_branch2a (BatchNormalizati (None, 2, 2, 256)    1024        RES4d_branch2a[0][0]             \n__________________________________________________________________________________________________\nactivation_80 (Activation)      (None, 2, 2, 256)    0           BN4d_branch2a[0][0]              \n__________________________________________________________________________________________________\nRES4d_branch2b (Conv2D)         (None, 2, 2, 256)    590080      activation_80[0][0]              \n__________________________________________________________________________________________________\nBN4d_branch2b (BatchNormalizati (None, 2, 2, 256)    1024        RES4d_branch2b[0][0]             \n__________________________________________________________________________________________________\nactivation_81 (Activation)      (None, 2, 2, 256)    0           BN4d_branch2b[0][0]              \n__________________________________________________________________________________________________\nRES4d_branch2c (Conv2D)         (None, 2, 2, 1024)   263168      activation_81[0][0]              \n__________________________________________________________________________________________________\nBN4d_branch2c (BatchNormalizati (None, 2, 2, 1024)   4096        RES4d_branch2c[0][0]             \n__________________________________________________________________________________________________\nadd_26 (Add)                    (None, 2, 2, 1024)   0           activation_79[0][0]              \n                                                                 BN4d_branch2c[0][0]              \n__________________________________________________________________________________________________\nactivation_82 (Activation)      (None, 2, 2, 1024)   0           add_26[0][0]                     \n__________________________________________________________________________________________________\nRES4e_branch2a (Conv2D)         (None, 2, 2, 256)    262400      activation_82[0][0]              \n__________________________________________________________________________________________________\nBN4e_branch2a (BatchNormalizati (None, 2, 2, 256)    1024        RES4e_branch2a[0][0]             \n__________________________________________________________________________________________________\nactivation_83 (Activation)      (None, 2, 2, 256)    0           BN4e_branch2a[0][0]              \n__________________________________________________________________________________________________\nRES4e_branch2b (Conv2D)         (None, 2, 2, 256)    590080      activation_83[0][0]              \n__________________________________________________________________________________________________\nBN4e_branch2b (BatchNormalizati (None, 2, 2, 256)    1024        RES4e_branch2b[0][0]             \n__________________________________________________________________________________________________\nactivation_84 (Activation)      (None, 2, 2, 256)    0           BN4e_branch2b[0][0]              \n__________________________________________________________________________________________________\nRES4e_branch2c (Conv2D)         (None, 2, 2, 1024)   263168      activation_84[0][0]              \n__________________________________________________________________________________________________\nBN4e_branch2c (BatchNormalizati (None, 2, 2, 1024)   4096        RES4e_branch2c[0][0]             \n__________________________________________________________________________________________________\nadd_27 (Add)                    (None, 2, 2, 1024)   0           activation_82[0][0]              \n                                                                 BN4e_branch2c[0][0]              \n__________________________________________________________________________________________________\nactivation_85 (Activation)      (None, 2, 2, 1024)   0           add_27[0][0]                     \n__________________________________________________________________________________________________\nRES4f_branch2a (Conv2D)         (None, 2, 2, 256)    262400      activation_85[0][0]              \n__________________________________________________________________________________________________\nBN4f_branch2a (BatchNormalizati (None, 2, 2, 256)    1024        RES4f_branch2a[0][0]             \n__________________________________________________________________________________________________\nactivation_86 (Activation)      (None, 2, 2, 256)    0           BN4f_branch2a[0][0]              \n__________________________________________________________________________________________________\nRES4f_branch2b (Conv2D)         (None, 2, 2, 256)    590080      activation_86[0][0]              \n__________________________________________________________________________________________________\nBN4f_branch2b (BatchNormalizati (None, 2, 2, 256)    1024        RES4f_branch2b[0][0]             \n__________________________________________________________________________________________________\nactivation_87 (Activation)      (None, 2, 2, 256)    0           BN4f_branch2b[0][0]              \n__________________________________________________________________________________________________\nRES4f_branch2c (Conv2D)         (None, 2, 2, 1024)   263168      activation_87[0][0]              \n__________________________________________________________________________________________________\nBN4f_branch2c (BatchNormalizati (None, 2, 2, 1024)   4096        RES4f_branch2c[0][0]             \n__________________________________________________________________________________________________\nadd_28 (Add)                    (None, 2, 2, 1024)   0           activation_85[0][0]              \n                                                                 BN4f_branch2c[0][0]              \n__________________________________________________________________________________________________\nactivation_88 (Activation)      (None, 2, 2, 1024)   0           add_28[0][0]                     \n__________________________________________________________________________________________________\nRES5a_branch2a (Conv2D)         (None, 1, 1, 512)    524800      activation_88[0][0]              \n__________________________________________________________________________________________________\nBN5a_branch2a (BatchNormalizati (None, 1, 1, 512)    2048        RES5a_branch2a[0][0]             \n__________________________________________________________________________________________________\nactivation_89 (Activation)      (None, 1, 1, 512)    0           BN5a_branch2a[0][0]              \n__________________________________________________________________________________________________\nRES5a_branch2b (Conv2D)         (None, 1, 1, 512)    2359808     activation_89[0][0]              \n__________________________________________________________________________________________________\nBN5a_branch2b (BatchNormalizati (None, 1, 1, 512)    2048        RES5a_branch2b[0][0]             \n__________________________________________________________________________________________________\nactivation_90 (Activation)      (None, 1, 1, 512)    0           BN5a_branch2b[0][0]              \n__________________________________________________________________________________________________\nRES5a_branch2c (Conv2D)         (None, 1, 1, 2048)   1050624     activation_90[0][0]              \n__________________________________________________________________________________________________\nRES5a_branch1 (Conv2D)          (None, 1, 1, 2048)   2099200     activation_88[0][0]              \n__________________________________________________________________________________________________\nBN5a_branch2c (BatchNormalizati (None, 1, 1, 2048)   8192        RES5a_branch2c[0][0]             \n__________________________________________________________________________________________________\nBN5a_branch1 (BatchNormalizatio (None, 1, 1, 2048)   8192        RES5a_branch1[0][0]              \n__________________________________________________________________________________________________\nadd_29 (Add)                    (None, 1, 1, 2048)   0           BN5a_branch2c[0][0]              \n                                                                 BN5a_branch1[0][0]               \n__________________________________________________________________________________________________\nactivation_91 (Activation)      (None, 1, 1, 2048)   0           add_29[0][0]                     \n__________________________________________________________________________________________________\nRES5b_branch2a (Conv2D)         (None, 1, 1, 512)    1049088     activation_91[0][0]              \n__________________________________________________________________________________________________\nBN5b_branch2a (BatchNormalizati (None, 1, 1, 512)    2048        RES5b_branch2a[0][0]             \n__________________________________________________________________________________________________\nactivation_92 (Activation)      (None, 1, 1, 512)    0           BN5b_branch2a[0][0]              \n__________________________________________________________________________________________________\nRES5b_branch2b (Conv2D)         (None, 1, 1, 512)    2359808     activation_92[0][0]              \n__________________________________________________________________________________________________\nBN5b_branch2b (BatchNormalizati (None, 1, 1, 512)    2048        RES5b_branch2b[0][0]             \n__________________________________________________________________________________________________\nactivation_93 (Activation)      (None, 1, 1, 512)    0           BN5b_branch2b[0][0]              \n__________________________________________________________________________________________________\nRES5b_branch2c (Conv2D)         (None, 1, 1, 2048)   1050624     activation_93[0][0]              \n__________________________________________________________________________________________________\nBN5b_branch2c (BatchNormalizati (None, 1, 1, 2048)   8192        RES5b_branch2c[0][0]             \n__________________________________________________________________________________________________\nadd_30 (Add)                    (None, 1, 1, 2048)   0           activation_91[0][0]              \n                                                                 BN5b_branch2c[0][0]              \n__________________________________________________________________________________________________\nactivation_94 (Activation)      (None, 1, 1, 2048)   0           add_30[0][0]                     \n__________________________________________________________________________________________________\nRES5c_branch2a (Conv2D)         (None, 1, 1, 512)    1049088     activation_94[0][0]              \n__________________________________________________________________________________________________\nBN5c_branch2a (BatchNormalizati (None, 1, 1, 512)    2048        RES5c_branch2a[0][0]             \n__________________________________________________________________________________________________\nactivation_95 (Activation)      (None, 1, 1, 512)    0           BN5c_branch2a[0][0]              \n__________________________________________________________________________________________________\nRES5c_branch2b (Conv2D)         (None, 1, 1, 512)    2359808     activation_95[0][0]              \n__________________________________________________________________________________________________\nBN5c_branch2b (BatchNormalizati (None, 1, 1, 512)    2048        RES5c_branch2b[0][0]             \n__________________________________________________________________________________________________\nactivation_96 (Activation)      (None, 1, 1, 512)    0           BN5c_branch2b[0][0]              \n__________________________________________________________________________________________________\nRES5c_branch2c (Conv2D)         (None, 1, 1, 2048)   1050624     activation_96[0][0]              \n__________________________________________________________________________________________________\nBN5c_branch2c (BatchNormalizati (None, 1, 1, 2048)   8192        RES5c_branch2c[0][0]             \n__________________________________________________________________________________________________\nadd_31 (Add)                    (None, 1, 1, 2048)   0           activation_94[0][0]              \n                                                                 BN5c_branch2c[0][0]              \n__________________________________________________________________________________________________\nactivation_97 (Activation)      (None, 1, 1, 2048)   0           add_31[0][0]                     \n__________________________________________________________________________________________________\naverage_pooling2d_1 (AveragePoo (None, 1, 1, 2048)   0           activation_97[0][0]              \n__________________________________________________________________________________________________\nflatten_1 (Flatten)             (None, 2048)         0           average_pooling2d_1[0][0]        \n__________________________________________________________________________________________________\nfc100 (Dense)                   (None, 100)          204900      flatten_1[0][0]                  \n==================================================================================================\nTotal params: 23,792,612\nTrainable params: 23,739,492\nNon-trainable params: 53,120\n__________________________________________________________________________________________________\n"
    }
   ],
   "source": [
    "model.summary()"
   ]
  },
  {
   "cell_type": "code",
   "execution_count": null,
   "metadata": {},
   "outputs": [],
   "source": [
    "history= model.fit(X_train_shuffled, Y_train_shuffled, epochs = 20, batch_size = 64,callbacks=[csv_logger])"
   ]
  }
 ],
 "metadata": {
  "kernelspec": {
   "display_name": "Python 3.7.7 64-bit ('env_name': conda)",
   "language": "python",
   "name": "python37764bitenvnameconda5bca44837483434e903341078e4d691d"
  },
  "language_info": {
   "codemirror_mode": {
    "name": "ipython",
    "version": 3
   },
   "file_extension": ".py",
   "mimetype": "text/x-python",
   "name": "python",
   "nbconvert_exporter": "python",
   "pygments_lexer": "ipython3",
   "version": "3.7.7-final"
  }
 },
 "nbformat": 4,
 "nbformat_minor": 4
}